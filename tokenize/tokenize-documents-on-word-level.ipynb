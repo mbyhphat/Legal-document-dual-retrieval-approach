{
 "cells": [
  {
   "cell_type": "code",
   "execution_count": 1,
   "id": "4db4d873",
   "metadata": {
    "_cell_guid": "b1076dfc-b9ad-4769-8c92-a6c4dae69d19",
    "_uuid": "8f2839f25d086af736a60e9eeb907d3b93b6e0e5",
    "execution": {
     "iopub.execute_input": "2024-12-22T04:19:29.549575Z",
     "iopub.status.busy": "2024-12-22T04:19:29.549076Z",
     "iopub.status.idle": "2024-12-22T04:19:38.117637Z",
     "shell.execute_reply": "2024-12-22T04:19:38.116405Z"
    },
    "papermill": {
     "duration": 8.57689,
     "end_time": "2024-12-22T04:19:38.119595",
     "exception": false,
     "start_time": "2024-12-22T04:19:29.542705",
     "status": "completed"
    },
    "tags": []
   },
   "outputs": [
    {
     "name": "stdout",
     "output_type": "stream",
     "text": [
      "Collecting sentence-transformers\n",
      "  Using cached sentence_transformers-3.4.1-py3-none-any.whl.metadata (10 kB)\n",
      "Collecting underthesea\n",
      "  Using cached underthesea-6.8.4-py3-none-any.whl.metadata (15 kB)\n",
      "Requirement already satisfied: transformers<5.0.0,>=4.41.0 in c:\\users\\dell\\appdata\\local\\programs\\python\\python311\\lib\\site-packages (from sentence-transformers) (4.46.1)\n",
      "Requirement already satisfied: tqdm in c:\\users\\dell\\appdata\\local\\programs\\python\\python311\\lib\\site-packages (from sentence-transformers) (4.66.5)\n",
      "Requirement already satisfied: torch>=1.11.0 in c:\\users\\dell\\appdata\\local\\programs\\python\\python311\\lib\\site-packages (from sentence-transformers) (2.5.0)\n",
      "Requirement already satisfied: scikit-learn in c:\\users\\dell\\appdata\\local\\programs\\python\\python311\\lib\\site-packages (from sentence-transformers) (1.3.1)\n",
      "Requirement already satisfied: scipy in c:\\users\\dell\\appdata\\local\\programs\\python\\python311\\lib\\site-packages (from sentence-transformers) (1.11.3)\n",
      "Requirement already satisfied: huggingface-hub>=0.20.0 in c:\\users\\dell\\appdata\\local\\programs\\python\\python311\\lib\\site-packages (from sentence-transformers) (0.26.2)\n",
      "Requirement already satisfied: Pillow in c:\\users\\dell\\appdata\\local\\programs\\python\\python311\\lib\\site-packages (from sentence-transformers) (11.0.0)\n",
      "Requirement already satisfied: Click>=6.0 in c:\\users\\dell\\appdata\\local\\programs\\python\\python311\\lib\\site-packages (from underthesea) (8.1.7)\n",
      "Collecting python-crfsuite>=0.9.6 (from underthesea)\n",
      "  Downloading python_crfsuite-0.9.11-cp311-cp311-win_amd64.whl.metadata (4.4 kB)\n",
      "Collecting nltk (from underthesea)\n",
      "  Using cached nltk-3.9.1-py3-none-any.whl.metadata (2.9 kB)\n",
      "Requirement already satisfied: requests in c:\\users\\dell\\appdata\\local\\programs\\python\\python311\\lib\\site-packages (from underthesea) (2.32.3)\n",
      "Requirement already satisfied: joblib in c:\\users\\dell\\appdata\\local\\programs\\python\\python311\\lib\\site-packages (from underthesea) (1.3.2)\n",
      "Requirement already satisfied: PyYAML in c:\\users\\dell\\appdata\\local\\programs\\python\\python311\\lib\\site-packages (from underthesea) (6.0.1)\n",
      "Collecting underthesea-core==1.0.4 (from underthesea)\n",
      "  Downloading underthesea_core-1.0.4-cp311-none-win_amd64.whl.metadata (1.8 kB)\n",
      "Requirement already satisfied: colorama in c:\\users\\dell\\appdata\\local\\programs\\python\\python311\\lib\\site-packages (from Click>=6.0->underthesea) (0.4.6)\n",
      "Requirement already satisfied: filelock in c:\\users\\dell\\appdata\\local\\programs\\python\\python311\\lib\\site-packages (from huggingface-hub>=0.20.0->sentence-transformers) (3.16.1)\n",
      "Requirement already satisfied: fsspec>=2023.5.0 in c:\\users\\dell\\appdata\\local\\programs\\python\\python311\\lib\\site-packages (from huggingface-hub>=0.20.0->sentence-transformers) (2024.10.0)\n",
      "Requirement already satisfied: packaging>=20.9 in c:\\users\\dell\\appdata\\local\\programs\\python\\python311\\lib\\site-packages (from huggingface-hub>=0.20.0->sentence-transformers) (23.1)\n",
      "Requirement already satisfied: typing-extensions>=3.7.4.3 in c:\\users\\dell\\appdata\\local\\programs\\python\\python311\\lib\\site-packages (from huggingface-hub>=0.20.0->sentence-transformers) (4.12.1)\n",
      "Requirement already satisfied: networkx in c:\\users\\dell\\appdata\\local\\programs\\python\\python311\\lib\\site-packages (from torch>=1.11.0->sentence-transformers) (3.4.2)\n",
      "Requirement already satisfied: jinja2 in c:\\users\\dell\\appdata\\local\\programs\\python\\python311\\lib\\site-packages (from torch>=1.11.0->sentence-transformers) (3.1.4)\n",
      "Requirement already satisfied: sympy==1.13.1 in c:\\users\\dell\\appdata\\local\\programs\\python\\python311\\lib\\site-packages (from torch>=1.11.0->sentence-transformers) (1.13.1)\n",
      "Requirement already satisfied: mpmath<1.4,>=1.1.0 in c:\\users\\dell\\appdata\\local\\programs\\python\\python311\\lib\\site-packages (from sympy==1.13.1->torch>=1.11.0->sentence-transformers) (1.3.0)\n",
      "Requirement already satisfied: numpy>=1.17 in c:\\users\\dell\\appdata\\local\\programs\\python\\python311\\lib\\site-packages (from transformers<5.0.0,>=4.41.0->sentence-transformers) (1.26.0)\n",
      "Requirement already satisfied: regex!=2019.12.17 in c:\\users\\dell\\appdata\\local\\programs\\python\\python311\\lib\\site-packages (from transformers<5.0.0,>=4.41.0->sentence-transformers) (2024.9.11)\n",
      "Requirement already satisfied: safetensors>=0.4.1 in c:\\users\\dell\\appdata\\local\\programs\\python\\python311\\lib\\site-packages (from transformers<5.0.0,>=4.41.0->sentence-transformers) (0.4.5)\n",
      "Requirement already satisfied: tokenizers<0.21,>=0.20 in c:\\users\\dell\\appdata\\local\\programs\\python\\python311\\lib\\site-packages (from transformers<5.0.0,>=4.41.0->sentence-transformers) (0.20.1)\n",
      "Requirement already satisfied: charset-normalizer<4,>=2 in c:\\users\\dell\\appdata\\local\\programs\\python\\python311\\lib\\site-packages (from requests->underthesea) (3.2.0)\n",
      "Requirement already satisfied: idna<4,>=2.5 in c:\\users\\dell\\appdata\\local\\programs\\python\\python311\\lib\\site-packages (from requests->underthesea) (3.4)\n",
      "Requirement already satisfied: urllib3<3,>=1.21.1 in c:\\users\\dell\\appdata\\local\\programs\\python\\python311\\lib\\site-packages (from requests->underthesea) (2.0.4)\n",
      "Requirement already satisfied: certifi>=2017.4.17 in c:\\users\\dell\\appdata\\local\\programs\\python\\python311\\lib\\site-packages (from requests->underthesea) (2023.7.22)\n",
      "Requirement already satisfied: threadpoolctl>=2.0.0 in c:\\users\\dell\\appdata\\local\\programs\\python\\python311\\lib\\site-packages (from scikit-learn->sentence-transformers) (3.2.0)\n",
      "Requirement already satisfied: MarkupSafe>=2.0 in c:\\users\\dell\\appdata\\local\\programs\\python\\python311\\lib\\site-packages (from jinja2->torch>=1.11.0->sentence-transformers) (2.1.5)\n",
      "Using cached sentence_transformers-3.4.1-py3-none-any.whl (275 kB)\n",
      "Downloading underthesea-6.8.4-py3-none-any.whl (20.9 MB)\n",
      "   ---------------------------------------- 0.0/20.9 MB ? eta -:--:--\n",
      "    --------------------------------------- 0.3/20.9 MB ? eta -:--:--\n",
      "   -- ------------------------------------- 1.0/20.9 MB 2.6 MB/s eta 0:00:08\n",
      "   -- ------------------------------------- 1.3/20.9 MB 2.5 MB/s eta 0:00:08\n",
      "   --- ------------------------------------ 1.6/20.9 MB 2.3 MB/s eta 0:00:09\n",
      "   --- ------------------------------------ 1.8/20.9 MB 1.7 MB/s eta 0:00:11\n",
      "   --- ------------------------------------ 1.8/20.9 MB 1.7 MB/s eta 0:00:11\n",
      "   --- ------------------------------------ 1.8/20.9 MB 1.7 MB/s eta 0:00:11\n",
      "   ---- ----------------------------------- 2.1/20.9 MB 1.2 MB/s eta 0:00:16\n",
      "   ---- ----------------------------------- 2.1/20.9 MB 1.2 MB/s eta 0:00:16\n",
      "   ---- ----------------------------------- 2.1/20.9 MB 1.2 MB/s eta 0:00:16\n",
      "   ---- ----------------------------------- 2.4/20.9 MB 1.0 MB/s eta 0:00:18\n",
      "   ----- ---------------------------------- 2.6/20.9 MB 980.6 kB/s eta 0:00:19\n",
      "   ----- ---------------------------------- 2.6/20.9 MB 980.6 kB/s eta 0:00:19\n",
      "   ----- ---------------------------------- 2.9/20.9 MB 948.1 kB/s eta 0:00:20\n",
      "   ----- ---------------------------------- 2.9/20.9 MB 948.1 kB/s eta 0:00:20\n",
      "   ------ --------------------------------- 3.1/20.9 MB 941.7 kB/s eta 0:00:19\n",
      "   ------ --------------------------------- 3.4/20.9 MB 915.3 kB/s eta 0:00:20\n",
      "   ------ --------------------------------- 3.4/20.9 MB 915.3 kB/s eta 0:00:20\n",
      "   ------ --------------------------------- 3.4/20.9 MB 915.3 kB/s eta 0:00:20\n",
      "   ------- -------------------------------- 3.7/20.9 MB 842.1 kB/s eta 0:00:21\n",
      "   ------- -------------------------------- 3.7/20.9 MB 842.1 kB/s eta 0:00:21\n",
      "   ------- -------------------------------- 3.7/20.9 MB 842.1 kB/s eta 0:00:21\n",
      "   ------- -------------------------------- 3.9/20.9 MB 796.3 kB/s eta 0:00:22\n",
      "   ------- -------------------------------- 3.9/20.9 MB 796.3 kB/s eta 0:00:22\n",
      "   ------- -------------------------------- 3.9/20.9 MB 796.3 kB/s eta 0:00:22\n",
      "   -------- ------------------------------- 4.2/20.9 MB 751.3 kB/s eta 0:00:23\n",
      "   -------- ------------------------------- 4.2/20.9 MB 751.3 kB/s eta 0:00:23\n",
      "   -------- ------------------------------- 4.5/20.9 MB 725.5 kB/s eta 0:00:23\n",
      "   -------- ------------------------------- 4.5/20.9 MB 725.5 kB/s eta 0:00:23\n",
      "   --------- ------------------------------ 4.7/20.9 MB 718.4 kB/s eta 0:00:23\n",
      "   --------- ------------------------------ 4.7/20.9 MB 718.4 kB/s eta 0:00:23\n",
      "   --------- ------------------------------ 5.0/20.9 MB 717.3 kB/s eta 0:00:23\n",
      "   --------- ------------------------------ 5.0/20.9 MB 717.3 kB/s eta 0:00:23\n",
      "   ---------- ----------------------------- 5.2/20.9 MB 726.2 kB/s eta 0:00:22\n",
      "   ---------- ----------------------------- 5.5/20.9 MB 734.3 kB/s eta 0:00:21\n",
      "   ----------- ---------------------------- 5.8/20.9 MB 741.7 kB/s eta 0:00:21\n",
      "   ----------- ---------------------------- 5.8/20.9 MB 741.7 kB/s eta 0:00:21\n",
      "   ----------- ---------------------------- 6.0/20.9 MB 745.7 kB/s eta 0:00:20\n",
      "   ----------- ---------------------------- 6.0/20.9 MB 745.7 kB/s eta 0:00:20\n",
      "   ------------ --------------------------- 6.3/20.9 MB 740.7 kB/s eta 0:00:20\n",
      "   ------------ --------------------------- 6.3/20.9 MB 740.7 kB/s eta 0:00:20\n",
      "   ------------ --------------------------- 6.3/20.9 MB 740.7 kB/s eta 0:00:20\n",
      "   ------------ --------------------------- 6.3/20.9 MB 740.7 kB/s eta 0:00:20\n",
      "   ------------ --------------------------- 6.3/20.9 MB 740.7 kB/s eta 0:00:20\n",
      "   ------------ --------------------------- 6.3/20.9 MB 740.7 kB/s eta 0:00:20\n",
      "   ------------ --------------------------- 6.6/20.9 MB 658.0 kB/s eta 0:00:22\n",
      "   ------------ --------------------------- 6.6/20.9 MB 658.0 kB/s eta 0:00:22\n",
      "   ------------ --------------------------- 6.6/20.9 MB 658.0 kB/s eta 0:00:22\n",
      "   ------------ --------------------------- 6.6/20.9 MB 658.0 kB/s eta 0:00:22\n",
      "   ------------ --------------------------- 6.6/20.9 MB 658.0 kB/s eta 0:00:22\n",
      "   ------------ --------------------------- 6.6/20.9 MB 658.0 kB/s eta 0:00:22\n",
      "   ------------ --------------------------- 6.6/20.9 MB 658.0 kB/s eta 0:00:22\n",
      "   ------------- -------------------------- 6.8/20.9 MB 596.6 kB/s eta 0:00:24\n",
      "   ------------- -------------------------- 6.8/20.9 MB 596.6 kB/s eta 0:00:24\n",
      "   ------------- -------------------------- 7.1/20.9 MB 595.1 kB/s eta 0:00:24\n",
      "   ------------- -------------------------- 7.1/20.9 MB 595.1 kB/s eta 0:00:24\n",
      "   ------------- -------------------------- 7.1/20.9 MB 595.1 kB/s eta 0:00:24\n",
      "   -------------- ------------------------- 7.3/20.9 MB 594.5 kB/s eta 0:00:23\n",
      "   -------------- ------------------------- 7.3/20.9 MB 594.5 kB/s eta 0:00:23\n",
      "   -------------- ------------------------- 7.6/20.9 MB 589.4 kB/s eta 0:00:23\n",
      "   -------------- ------------------------- 7.6/20.9 MB 589.4 kB/s eta 0:00:23\n",
      "   --------------- ------------------------ 7.9/20.9 MB 594.1 kB/s eta 0:00:22\n",
      "   --------------- ------------------------ 8.1/20.9 MB 602.1 kB/s eta 0:00:22\n",
      "   --------------- ------------------------ 8.1/20.9 MB 602.1 kB/s eta 0:00:22\n",
      "   ---------------- ----------------------- 8.4/20.9 MB 607.6 kB/s eta 0:00:21\n",
      "   ---------------- ----------------------- 8.7/20.9 MB 611.5 kB/s eta 0:00:21\n",
      "   ---------------- ----------------------- 8.7/20.9 MB 611.5 kB/s eta 0:00:21\n",
      "   ---------------- ----------------------- 8.7/20.9 MB 611.5 kB/s eta 0:00:21\n",
      "   ---------------- ----------------------- 8.7/20.9 MB 611.5 kB/s eta 0:00:21\n",
      "   ---------------- ----------------------- 8.7/20.9 MB 611.5 kB/s eta 0:00:21\n",
      "   ----------------- ---------------------- 8.9/20.9 MB 590.3 kB/s eta 0:00:21\n",
      "   ----------------- ---------------------- 8.9/20.9 MB 590.3 kB/s eta 0:00:21\n",
      "   ----------------- ---------------------- 8.9/20.9 MB 590.3 kB/s eta 0:00:21\n",
      "   ----------------- ---------------------- 9.2/20.9 MB 578.5 kB/s eta 0:00:21\n",
      "   ----------------- ---------------------- 9.2/20.9 MB 578.5 kB/s eta 0:00:21\n",
      "   ----------------- ---------------------- 9.2/20.9 MB 578.5 kB/s eta 0:00:21\n",
      "   ------------------ --------------------- 9.4/20.9 MB 571.2 kB/s eta 0:00:21\n",
      "   ------------------ --------------------- 9.4/20.9 MB 571.2 kB/s eta 0:00:21\n",
      "   ------------------ --------------------- 9.7/20.9 MB 572.5 kB/s eta 0:00:20\n",
      "   ------------------ --------------------- 9.7/20.9 MB 572.5 kB/s eta 0:00:20\n",
      "   ------------------ --------------------- 9.7/20.9 MB 572.5 kB/s eta 0:00:20\n",
      "   ------------------- -------------------- 10.0/20.9 MB 572.1 kB/s eta 0:00:20\n",
      "   ------------------- -------------------- 10.0/20.9 MB 572.1 kB/s eta 0:00:20\n",
      "   ------------------- -------------------- 10.2/20.9 MB 571.8 kB/s eta 0:00:19\n",
      "   -------------------- ------------------- 10.5/20.9 MB 576.0 kB/s eta 0:00:19\n",
      "   -------------------- ------------------- 10.7/20.9 MB 583.1 kB/s eta 0:00:18\n",
      "   -------------------- ------------------- 10.7/20.9 MB 583.1 kB/s eta 0:00:18\n",
      "   --------------------- ------------------ 11.3/20.9 MB 598.7 kB/s eta 0:00:17\n",
      "   ---------------------- ----------------- 11.5/20.9 MB 606.3 kB/s eta 0:00:16\n",
      "   ---------------------- ----------------- 11.8/20.9 MB 613.6 kB/s eta 0:00:15\n",
      "   ---------------------- ----------------- 11.8/20.9 MB 613.6 kB/s eta 0:00:15\n",
      "   ---------------------- ----------------- 11.8/20.9 MB 613.6 kB/s eta 0:00:15\n",
      "   ----------------------- ---------------- 12.1/20.9 MB 611.3 kB/s eta 0:00:15\n",
      "   ----------------------- ---------------- 12.1/20.9 MB 611.3 kB/s eta 0:00:15\n",
      "   ----------------------- ---------------- 12.3/20.9 MB 610.6 kB/s eta 0:00:15\n",
      "   ----------------------- ---------------- 12.3/20.9 MB 610.6 kB/s eta 0:00:15\n",
      "   ------------------------ --------------- 12.6/20.9 MB 608.4 kB/s eta 0:00:14\n",
      "   ------------------------ --------------- 12.6/20.9 MB 608.4 kB/s eta 0:00:14\n",
      "   ------------------------ --------------- 12.6/20.9 MB 608.4 kB/s eta 0:00:14\n",
      "   ------------------------ --------------- 12.8/20.9 MB 601.4 kB/s eta 0:00:14\n",
      "   ------------------------ --------------- 12.8/20.9 MB 601.4 kB/s eta 0:00:14\n",
      "   ------------------------ --------------- 12.8/20.9 MB 601.4 kB/s eta 0:00:14\n",
      "   ------------------------ --------------- 12.8/20.9 MB 601.4 kB/s eta 0:00:14\n",
      "   ------------------------- -------------- 13.1/20.9 MB 592.3 kB/s eta 0:00:14\n",
      "   ------------------------- -------------- 13.1/20.9 MB 592.3 kB/s eta 0:00:14\n",
      "   ------------------------- -------------- 13.4/20.9 MB 591.6 kB/s eta 0:00:13\n",
      "   ------------------------- -------------- 13.4/20.9 MB 591.6 kB/s eta 0:00:13\n",
      "   -------------------------- ------------- 13.6/20.9 MB 594.6 kB/s eta 0:00:13\n",
      "   -------------------------- ------------- 13.9/20.9 MB 598.8 kB/s eta 0:00:12\n",
      "   -------------------------- ------------- 13.9/20.9 MB 598.8 kB/s eta 0:00:12\n",
      "   --------------------------- ------------ 14.2/20.9 MB 602.0 kB/s eta 0:00:12\n",
      "   --------------------------- ------------ 14.2/20.9 MB 602.0 kB/s eta 0:00:12\n",
      "   --------------------------- ------------ 14.4/20.9 MB 603.2 kB/s eta 0:00:11\n",
      "   --------------------------- ------------ 14.4/20.9 MB 603.2 kB/s eta 0:00:11\n",
      "   ---------------------------- ----------- 14.7/20.9 MB 601.5 kB/s eta 0:00:11\n",
      "   ---------------------------- ----------- 14.7/20.9 MB 601.5 kB/s eta 0:00:11\n",
      "   ---------------------------- ----------- 14.7/20.9 MB 601.5 kB/s eta 0:00:11\n",
      "   ---------------------------- ----------- 14.9/20.9 MB 596.9 kB/s eta 0:00:11\n",
      "   ---------------------------- ----------- 14.9/20.9 MB 596.9 kB/s eta 0:00:11\n",
      "   ---------------------------- ----------- 14.9/20.9 MB 596.9 kB/s eta 0:00:11\n",
      "   ----------------------------- ---------- 15.2/20.9 MB 593.2 kB/s eta 0:00:10\n",
      "   ----------------------------- ---------- 15.2/20.9 MB 593.2 kB/s eta 0:00:10\n",
      "   ----------------------------- ---------- 15.5/20.9 MB 590.8 kB/s eta 0:00:10\n",
      "   ----------------------------- ---------- 15.5/20.9 MB 590.8 kB/s eta 0:00:10\n",
      "   ------------------------------ --------- 15.7/20.9 MB 592.7 kB/s eta 0:00:09\n",
      "   ------------------------------ --------- 15.7/20.9 MB 592.7 kB/s eta 0:00:09\n",
      "   ------------------------------ --------- 16.0/20.9 MB 596.0 kB/s eta 0:00:09\n",
      "   ------------------------------- -------- 16.3/20.9 MB 598.1 kB/s eta 0:00:08\n",
      "   ------------------------------- -------- 16.3/20.9 MB 598.1 kB/s eta 0:00:08\n",
      "   ------------------------------- -------- 16.5/20.9 MB 600.2 kB/s eta 0:00:08\n",
      "   ------------------------------- -------- 16.5/20.9 MB 600.2 kB/s eta 0:00:08\n",
      "   -------------------------------- ------- 16.8/20.9 MB 600.5 kB/s eta 0:00:07\n",
      "   -------------------------------- ------- 16.8/20.9 MB 600.5 kB/s eta 0:00:07\n",
      "   -------------------------------- ------- 17.0/20.9 MB 601.9 kB/s eta 0:00:07\n",
      "   --------------------------------- ------ 17.3/20.9 MB 603.8 kB/s eta 0:00:06\n",
      "   --------------------------------- ------ 17.3/20.9 MB 603.8 kB/s eta 0:00:06\n",
      "   --------------------------------- ------ 17.6/20.9 MB 605.8 kB/s eta 0:00:06\n",
      "   --------------------------------- ------ 17.6/20.9 MB 605.8 kB/s eta 0:00:06\n",
      "   ---------------------------------- ----- 17.8/20.9 MB 606.0 kB/s eta 0:00:06\n",
      "   ---------------------------------- ----- 17.8/20.9 MB 606.0 kB/s eta 0:00:06\n",
      "   ---------------------------------- ----- 17.8/20.9 MB 606.0 kB/s eta 0:00:06\n",
      "   ---------------------------------- ----- 17.8/20.9 MB 606.0 kB/s eta 0:00:06\n",
      "   ---------------------------------- ----- 18.1/20.9 MB 597.9 kB/s eta 0:00:05\n",
      "   ---------------------------------- ----- 18.1/20.9 MB 597.9 kB/s eta 0:00:05\n",
      "   ---------------------------------- ----- 18.1/20.9 MB 597.9 kB/s eta 0:00:05\n",
      "   ----------------------------------- ---- 18.4/20.9 MB 569.2 kB/s eta 0:00:05\n",
      "   ----------------------------------- ---- 18.4/20.9 MB 569.2 kB/s eta 0:00:05\n",
      "   ----------------------------------- ---- 18.6/20.9 MB 561.0 kB/s eta 0:00:05\n",
      "   ----------------------------------- ---- 18.6/20.9 MB 561.0 kB/s eta 0:00:05\n",
      "   ------------------------------------ --- 18.9/20.9 MB 566.3 kB/s eta 0:00:04\n",
      "   ------------------------------------ --- 19.1/20.9 MB 568.6 kB/s eta 0:00:04\n",
      "   ------------------------------------ --- 19.1/20.9 MB 568.6 kB/s eta 0:00:04\n",
      "   ------------------------------------- -- 19.4/20.9 MB 571.0 kB/s eta 0:00:03\n",
      "   ------------------------------------- -- 19.7/20.9 MB 573.7 kB/s eta 0:00:03\n",
      "   -------------------------------------- - 19.9/20.9 MB 577.9 kB/s eta 0:00:02\n",
      "   -------------------------------------- - 20.2/20.9 MB 580.3 kB/s eta 0:00:02\n",
      "   -------------------------------------- - 20.2/20.9 MB 580.3 kB/s eta 0:00:02\n",
      "   ---------------------------------------  20.4/20.9 MB 581.2 kB/s eta 0:00:01\n",
      "   ---------------------------------------  20.7/20.9 MB 582.8 kB/s eta 0:00:01\n",
      "   ---------------------------------------  20.7/20.9 MB 582.8 kB/s eta 0:00:01\n",
      "   ---------------------------------------- 20.9/20.9 MB 586.1 kB/s eta 0:00:00\n",
      "Downloading underthesea_core-1.0.4-cp311-none-win_amd64.whl (552 kB)\n",
      "   ---------------------------------------- 0.0/553.0 kB ? eta -:--:--\n",
      "   ---------------------------------------- 0.0/553.0 kB ? eta -:--:--\n",
      "   ---------------------------------------- 0.0/553.0 kB ? eta -:--:--\n",
      "   ------------------ --------------------- 262.1/553.0 kB ? eta -:--:--\n",
      "   ------------------ --------------------- 262.1/553.0 kB ? eta -:--:--\n",
      "   -------------------------------------- 553.0/553.0 kB 547.7 kB/s eta 0:00:00\n",
      "Downloading python_crfsuite-0.9.11-cp311-cp311-win_amd64.whl (301 kB)\n",
      "Using cached nltk-3.9.1-py3-none-any.whl (1.5 MB)\n",
      "Installing collected packages: underthesea-core, python-crfsuite, nltk, underthesea, sentence-transformers\n",
      "Successfully installed nltk-3.9.1 python-crfsuite-0.9.11 sentence-transformers-3.4.1 underthesea-6.8.4 underthesea-core-1.0.4\n"
     ]
    },
    {
     "name": "stderr",
     "output_type": "stream",
     "text": [
      "WARNING: Ignoring invalid distribution ~illow (C:\\Users\\DELL\\AppData\\Local\\Programs\\Python\\Python311\\Lib\\site-packages)\n",
      "WARNING: Ignoring invalid distribution ~illow (C:\\Users\\DELL\\AppData\\Local\\Programs\\Python\\Python311\\Lib\\site-packages)\n",
      "WARNING: Ignoring invalid distribution ~illow (C:\\Users\\DELL\\AppData\\Local\\Programs\\Python\\Python311\\Lib\\site-packages)\n",
      "\n",
      "[notice] A new release of pip is available: 24.2 -> 25.0.1\n",
      "[notice] To update, run: python.exe -m pip install --upgrade pip\n"
     ]
    }
   ],
   "source": [
    "!pip install sentence-transformers underthesea"
   ]
  },
  {
   "cell_type": "code",
   "execution_count": 2,
   "id": "f0fd2110",
   "metadata": {
    "execution": {
     "iopub.execute_input": "2024-12-22T04:19:38.132031Z",
     "iopub.status.busy": "2024-12-22T04:19:38.131693Z",
     "iopub.status.idle": "2024-12-22T04:19:46.832291Z",
     "shell.execute_reply": "2024-12-22T04:19:46.831117Z"
    },
    "papermill": {
     "duration": 8.708899,
     "end_time": "2024-12-22T04:19:46.834334",
     "exception": false,
     "start_time": "2024-12-22T04:19:38.125435",
     "status": "completed"
    },
    "tags": []
   },
   "outputs": [
    {
     "name": "stderr",
     "output_type": "stream",
     "text": [
      "c:\\Users\\DELL\\AppData\\Local\\Programs\\Python\\Python311\\Lib\\site-packages\\tqdm\\auto.py:21: TqdmWarning: IProgress not found. Please update jupyter and ipywidgets. See https://ipywidgets.readthedocs.io/en/stable/user_install.html\n",
      "  from .autonotebook import tqdm as notebook_tqdm\n"
     ]
    }
   ],
   "source": [
    "from tqdm import tqdm\n",
    "import sys\n",
    "from underthesea import word_tokenize\n",
    "import pandas as pd\n",
    "import pickle"
   ]
  },
  {
   "cell_type": "code",
   "execution_count": 5,
   "id": "b2468d85",
   "metadata": {},
   "outputs": [
    {
     "data": {
      "text/plain": [
       "'e:\\\\Legal-document-dual-retrieval-approach\\\\tokenize'"
      ]
     },
     "execution_count": 5,
     "metadata": {},
     "output_type": "execute_result"
    }
   ],
   "source": [
    "%pwd"
   ]
  },
  {
   "cell_type": "code",
   "execution_count": 7,
   "id": "1ad83dd5",
   "metadata": {},
   "outputs": [
    {
     "name": "stdout",
     "output_type": "stream",
     "text": [
      "e:\\Legal-document-dual-retrieval-approach\n"
     ]
    },
    {
     "name": "stderr",
     "output_type": "stream",
     "text": [
      "C:\\Users\\DELL\\AppData\\Roaming\\Python\\Python311\\site-packages\\IPython\\core\\magics\\osm.py:417: UserWarning: using dhist requires you to install the `pickleshare` library.\n",
      "  self.shell.db['dhist'] = compress_dhist(dhist)[-100:]\n"
     ]
    }
   ],
   "source": [
    "%cd .."
   ]
  },
  {
   "cell_type": "code",
   "execution_count": 8,
   "id": "e6a96fcc",
   "metadata": {},
   "outputs": [
    {
     "data": {
      "text/plain": [
       "'e:\\\\Legal-document-dual-retrieval-approach'"
      ]
     },
     "execution_count": 8,
     "metadata": {},
     "output_type": "execute_result"
    }
   ],
   "source": [
    "%pwd"
   ]
  },
  {
   "cell_type": "code",
   "execution_count": null,
   "id": "28e2126b",
   "metadata": {
    "execution": {
     "iopub.execute_input": "2024-12-22T04:19:46.846442Z",
     "iopub.status.busy": "2024-12-22T04:19:46.845827Z",
     "iopub.status.idle": "2024-12-22T04:20:06.052401Z",
     "shell.execute_reply": "2024-12-22T04:20:06.051231Z"
    },
    "papermill": {
     "duration": 19.214904,
     "end_time": "2024-12-22T04:20:06.054564",
     "exception": false,
     "start_time": "2024-12-22T04:19:46.839660",
     "status": "completed"
    },
    "tags": []
   },
   "outputs": [],
   "source": [
    "corpus = pd.read_csv('data/corpus.csv')\n",
    "train = pd.read_csv('data/train.csv', on_bad_lines='skip')"
   ]
  },
  {
   "cell_type": "code",
   "execution_count": 4,
   "id": "74acf228",
   "metadata": {
    "execution": {
     "iopub.execute_input": "2024-12-22T04:20:06.068018Z",
     "iopub.status.busy": "2024-12-22T04:20:06.067557Z",
     "iopub.status.idle": "2024-12-22T04:20:06.084587Z",
     "shell.execute_reply": "2024-12-22T04:20:06.083464Z"
    },
    "papermill": {
     "duration": 0.025616,
     "end_time": "2024-12-22T04:20:06.086367",
     "exception": false,
     "start_time": "2024-12-22T04:20:06.060751",
     "status": "completed"
    },
    "tags": []
   },
   "outputs": [
    {
     "data": {
      "text/plain": [
       "Index([26402], dtype='int64')"
      ]
     },
     "execution_count": 4,
     "metadata": {},
     "output_type": "execute_result"
    }
   ],
   "source": [
    "nan_qid = train[train['qid'].isna() == True].index\n",
    "nan_qid"
   ]
  },
  {
   "cell_type": "code",
   "execution_count": 5,
   "id": "fe30d6a7",
   "metadata": {
    "execution": {
     "iopub.execute_input": "2024-12-22T04:20:06.098743Z",
     "iopub.status.busy": "2024-12-22T04:20:06.098325Z",
     "iopub.status.idle": "2024-12-22T04:20:06.108508Z",
     "shell.execute_reply": "2024-12-22T04:20:06.107049Z"
    },
    "papermill": {
     "duration": 0.0187,
     "end_time": "2024-12-22T04:20:06.110680",
     "exception": false,
     "start_time": "2024-12-22T04:20:06.091980",
     "status": "completed"
    },
    "tags": []
   },
   "outputs": [
    {
     "data": {
      "text/plain": [
       "0"
      ]
     },
     "execution_count": 5,
     "metadata": {},
     "output_type": "execute_result"
    }
   ],
   "source": [
    "train.loc[nan_qid[0], 'qid'] = 0\n",
    "train['qid'] = train['qid'].astype(int)\n",
    "train.loc[nan_qid[0], 'qid']"
   ]
  },
  {
   "cell_type": "code",
   "execution_count": 6,
   "id": "f1713b16",
   "metadata": {
    "execution": {
     "iopub.execute_input": "2024-12-22T04:20:06.127727Z",
     "iopub.status.busy": "2024-12-22T04:20:06.127378Z",
     "iopub.status.idle": "2024-12-22T04:20:06.141120Z",
     "shell.execute_reply": "2024-12-22T04:20:06.140008Z"
    },
    "papermill": {
     "duration": 0.022323,
     "end_time": "2024-12-22T04:20:06.143090",
     "exception": false,
     "start_time": "2024-12-22T04:20:06.120767",
     "status": "completed"
    },
    "tags": []
   },
   "outputs": [
    {
     "data": {
      "text/html": [
       "<div>\n",
       "<style scoped>\n",
       "    .dataframe tbody tr th:only-of-type {\n",
       "        vertical-align: middle;\n",
       "    }\n",
       "\n",
       "    .dataframe tbody tr th {\n",
       "        vertical-align: top;\n",
       "    }\n",
       "\n",
       "    .dataframe thead th {\n",
       "        text-align: right;\n",
       "    }\n",
       "</style>\n",
       "<table border=\"1\" class=\"dataframe\">\n",
       "  <thead>\n",
       "    <tr style=\"text-align: right;\">\n",
       "      <th></th>\n",
       "      <th>question</th>\n",
       "      <th>context</th>\n",
       "      <th>cid</th>\n",
       "      <th>qid</th>\n",
       "    </tr>\n",
       "  </thead>\n",
       "  <tbody>\n",
       "    <tr>\n",
       "      <th>0</th>\n",
       "      <td>Người học ngành quản lý khai thác công trình t...</td>\n",
       "      <td>['Khả năng học tập, nâng cao trình độ\\n- Khối ...</td>\n",
       "      <td>[62492]</td>\n",
       "      <td>161615</td>\n",
       "    </tr>\n",
       "    <tr>\n",
       "      <th>1</th>\n",
       "      <td>Nội dung lồng ghép vấn đề bình đẳng giới trong...</td>\n",
       "      <td>['Nội dung lồng ghép vấn đề bình đẳng giới tro...</td>\n",
       "      <td>[151154]</td>\n",
       "      <td>80037</td>\n",
       "    </tr>\n",
       "    <tr>\n",
       "      <th>2</th>\n",
       "      <td>Sản phẩm phần mềm có được hưởng ưu đãi về thời...</td>\n",
       "      <td>['\"Điều 20. Ưu đãi về thời gian miễn thuế, giả...</td>\n",
       "      <td>[75071]</td>\n",
       "      <td>124074</td>\n",
       "    </tr>\n",
       "    <tr>\n",
       "      <th>3</th>\n",
       "      <td>Điều kiện để giáo viên trong cơ sở giáo dục mầ...</td>\n",
       "      <td>['Điều kiện được hưởng\\nCán bộ quản lý, giáo v...</td>\n",
       "      <td>[225897]</td>\n",
       "      <td>146841</td>\n",
       "    </tr>\n",
       "    <tr>\n",
       "      <th>4</th>\n",
       "      <td>Nguyên tắc áp dụng phụ cấp ưu đãi nghề y tế th...</td>\n",
       "      <td>['Nguyên tắc áp dụng\\n1. Trường hợp công chức,...</td>\n",
       "      <td>[68365]</td>\n",
       "      <td>6176</td>\n",
       "    </tr>\n",
       "  </tbody>\n",
       "</table>\n",
       "</div>"
      ],
      "text/plain": [
       "                                            question  \\\n",
       "0  Người học ngành quản lý khai thác công trình t...   \n",
       "1  Nội dung lồng ghép vấn đề bình đẳng giới trong...   \n",
       "2  Sản phẩm phần mềm có được hưởng ưu đãi về thời...   \n",
       "3  Điều kiện để giáo viên trong cơ sở giáo dục mầ...   \n",
       "4  Nguyên tắc áp dụng phụ cấp ưu đãi nghề y tế th...   \n",
       "\n",
       "                                             context       cid     qid  \n",
       "0  ['Khả năng học tập, nâng cao trình độ\\n- Khối ...   [62492]  161615  \n",
       "1  ['Nội dung lồng ghép vấn đề bình đẳng giới tro...  [151154]   80037  \n",
       "2  ['\"Điều 20. Ưu đãi về thời gian miễn thuế, giả...   [75071]  124074  \n",
       "3  ['Điều kiện được hưởng\\nCán bộ quản lý, giáo v...  [225897]  146841  \n",
       "4  ['Nguyên tắc áp dụng\\n1. Trường hợp công chức,...   [68365]    6176  "
      ]
     },
     "execution_count": 6,
     "metadata": {},
     "output_type": "execute_result"
    }
   ],
   "source": [
    "train.head()"
   ]
  },
  {
   "cell_type": "code",
   "execution_count": 7,
   "id": "8f0bc9b9",
   "metadata": {
    "execution": {
     "iopub.execute_input": "2024-12-22T04:20:06.156264Z",
     "iopub.status.busy": "2024-12-22T04:20:06.155885Z",
     "iopub.status.idle": "2024-12-22T04:20:06.162740Z",
     "shell.execute_reply": "2024-12-22T04:20:06.161744Z"
    },
    "papermill": {
     "duration": 0.015115,
     "end_time": "2024-12-22T04:20:06.164391",
     "exception": false,
     "start_time": "2024-12-22T04:20:06.149276",
     "status": "completed"
    },
    "tags": []
   },
   "outputs": [
    {
     "data": {
      "text/plain": [
       "0          [62492]\n",
       "1         [151154]\n",
       "2          [75071]\n",
       "3         [225897]\n",
       "4          [68365]\n",
       "5         [161160]\n",
       "6          [73585]\n",
       "7    [31682 31677]\n",
       "8          [64594]\n",
       "9          [92952]\n",
       "Name: cid, dtype: object"
      ]
     },
     "execution_count": 7,
     "metadata": {},
     "output_type": "execute_result"
    }
   ],
   "source": [
    "train['cid'][:10]"
   ]
  },
  {
   "cell_type": "code",
   "execution_count": 8,
   "id": "35edb68d",
   "metadata": {
    "execution": {
     "iopub.execute_input": "2024-12-22T04:20:06.177469Z",
     "iopub.status.busy": "2024-12-22T04:20:06.177099Z",
     "iopub.status.idle": "2024-12-22T04:20:06.274608Z",
     "shell.execute_reply": "2024-12-22T04:20:06.273117Z"
    },
    "papermill": {
     "duration": 0.107641,
     "end_time": "2024-12-22T04:20:06.278028",
     "exception": false,
     "start_time": "2024-12-22T04:20:06.170387",
     "status": "completed"
    },
    "tags": []
   },
   "outputs": [
    {
     "data": {
      "text/plain": [
       "[1, 1, 1, 1, 1, 1, 1, 2, 1, 1]"
      ]
     },
     "execution_count": 8,
     "metadata": {},
     "output_type": "execute_result"
    }
   ],
   "source": [
    "relevant = train['cid'].apply(lambda x: len(x.strip('[]').split())).tolist()\n",
    "relevant[:10]"
   ]
  },
  {
   "cell_type": "code",
   "execution_count": 9,
   "id": "063aad96",
   "metadata": {
    "execution": {
     "iopub.execute_input": "2024-12-22T04:20:06.305010Z",
     "iopub.status.busy": "2024-12-22T04:20:06.304557Z",
     "iopub.status.idle": "2024-12-22T04:20:06.868969Z",
     "shell.execute_reply": "2024-12-22T04:20:06.867685Z"
    },
    "papermill": {
     "duration": 0.580291,
     "end_time": "2024-12-22T04:20:06.870915",
     "exception": false,
     "start_time": "2024-12-22T04:20:06.290624",
     "status": "completed"
    },
    "tags": []
   },
   "outputs": [],
   "source": [
    "train['list_cid'] = train['cid'].apply(lambda x: x.strip('[]').split()).tolist()\n",
    "train['list_cid'] = train['list_cid'].apply(lambda x: [int(i) for i in x])"
   ]
  },
  {
   "cell_type": "code",
   "execution_count": 10,
   "id": "04b23b46",
   "metadata": {
    "execution": {
     "iopub.execute_input": "2024-12-22T04:20:06.884291Z",
     "iopub.status.busy": "2024-12-22T04:20:06.883874Z",
     "iopub.status.idle": "2024-12-22T04:20:06.892704Z",
     "shell.execute_reply": "2024-12-22T04:20:06.891539Z"
    },
    "papermill": {
     "duration": 0.017414,
     "end_time": "2024-12-22T04:20:06.894507",
     "exception": false,
     "start_time": "2024-12-22T04:20:06.877093",
     "status": "completed"
    },
    "tags": []
   },
   "outputs": [
    {
     "data": {
      "text/plain": [
       "0           [62492]\n",
       "1          [151154]\n",
       "2           [75071]\n",
       "3          [225897]\n",
       "4           [68365]\n",
       "5          [161160]\n",
       "6           [73585]\n",
       "7    [31682, 31677]\n",
       "8           [64594]\n",
       "9           [92952]\n",
       "Name: list_cid, dtype: object"
      ]
     },
     "execution_count": 10,
     "metadata": {},
     "output_type": "execute_result"
    }
   ],
   "source": [
    "train['list_cid'][:10]"
   ]
  },
  {
   "cell_type": "code",
   "execution_count": 11,
   "id": "ac793f2a",
   "metadata": {
    "execution": {
     "iopub.execute_input": "2024-12-22T04:20:06.908056Z",
     "iopub.status.busy": "2024-12-22T04:20:06.907639Z",
     "iopub.status.idle": "2024-12-22T04:20:06.922318Z",
     "shell.execute_reply": "2024-12-22T04:20:06.921197Z"
    },
    "papermill": {
     "duration": 0.023327,
     "end_time": "2024-12-22T04:20:06.924061",
     "exception": false,
     "start_time": "2024-12-22T04:20:06.900734",
     "status": "completed"
    },
    "tags": []
   },
   "outputs": [
    {
     "data": {
      "text/plain": [
       "26402"
      ]
     },
     "execution_count": 11,
     "metadata": {},
     "output_type": "execute_result"
    }
   ],
   "source": [
    "import numpy as np\n",
    "np.argmax(relevant)"
   ]
  },
  {
   "cell_type": "code",
   "execution_count": 12,
   "id": "ecd1324b",
   "metadata": {
    "execution": {
     "iopub.execute_input": "2024-12-22T04:20:06.937711Z",
     "iopub.status.busy": "2024-12-22T04:20:06.937293Z",
     "iopub.status.idle": "2024-12-22T04:20:07.174952Z",
     "shell.execute_reply": "2024-12-22T04:20:07.173784Z"
    },
    "papermill": {
     "duration": 0.24649,
     "end_time": "2024-12-22T04:20:07.176749",
     "exception": false,
     "start_time": "2024-12-22T04:20:06.930259",
     "status": "completed"
    },
    "tags": []
   },
   "outputs": [],
   "source": [
    "documents_dir = dict(zip(corpus['cid'], corpus['text']))\n",
    "queries_dir = dict(zip(train['qid'], train['question']))\n",
    "queries_doc = dict(zip(train['qid'], train['list_cid']))\n",
    "queries_map = dict(zip(train['question'], train['qid']))"
   ]
  },
  {
   "cell_type": "code",
   "execution_count": 14,
   "id": "9616a549",
   "metadata": {
    "execution": {
     "iopub.execute_input": "2024-12-22T04:20:07.293139Z",
     "iopub.status.busy": "2024-12-22T04:20:07.292743Z",
     "iopub.status.idle": "2024-12-22T04:20:07.312071Z",
     "shell.execute_reply": "2024-12-22T04:20:07.310720Z"
    },
    "papermill": {
     "duration": 0.028527,
     "end_time": "2024-12-22T04:20:07.314125",
     "exception": false,
     "start_time": "2024-12-22T04:20:07.285598",
     "status": "completed"
    },
    "tags": []
   },
   "outputs": [],
   "source": [
    "documents_id = list(documents_dir.keys())\n",
    "documents_list = list(documents_dir.values())"
   ]
  },
  {
   "cell_type": "code",
   "execution_count": 15,
   "id": "1f47331e",
   "metadata": {
    "execution": {
     "iopub.execute_input": "2024-12-22T04:20:07.327715Z",
     "iopub.status.busy": "2024-12-22T04:20:07.327358Z",
     "iopub.status.idle": "2024-12-22T04:20:07.338659Z",
     "shell.execute_reply": "2024-12-22T04:20:07.337601Z"
    },
    "papermill": {
     "duration": 0.020026,
     "end_time": "2024-12-22T04:20:07.340306",
     "exception": false,
     "start_time": "2024-12-22T04:20:07.320280",
     "status": "completed"
    },
    "tags": []
   },
   "outputs": [],
   "source": [
    "queries_id = list(queries_dir.keys())\n",
    "queries_list = list(queries_dir.values())"
   ]
  },
  {
   "cell_type": "code",
   "execution_count": 16,
   "id": "ba2397ae",
   "metadata": {
    "execution": {
     "iopub.execute_input": "2024-12-22T04:20:07.353923Z",
     "iopub.status.busy": "2024-12-22T04:20:07.353502Z",
     "iopub.status.idle": "2024-12-22T06:35:45.429352Z",
     "shell.execute_reply": "2024-12-22T06:35:45.428052Z"
    },
    "papermill": {
     "duration": 8138.084398,
     "end_time": "2024-12-22T06:35:45.430956",
     "exception": false,
     "start_time": "2024-12-22T04:20:07.346558",
     "status": "completed"
    },
    "tags": []
   },
   "outputs": [
    {
     "name": "stdout",
     "output_type": "stream",
     "text": [
      "100%|██████████| 261597/261597 [2:15:38<00:00, 32.14it/s]\n"
     ]
    }
   ],
   "source": [
    "tokenized_documents = [word_tokenize(doc) for doc in tqdm(documents_list, file=sys.stdout)]"
   ]
  },
  {
   "cell_type": "code",
   "execution_count": 17,
   "id": "c91c6e0d",
   "metadata": {
    "execution": {
     "iopub.execute_input": "2024-12-22T06:35:51.436155Z",
     "iopub.status.busy": "2024-12-22T06:35:51.435775Z",
     "iopub.status.idle": "2024-12-22T06:36:12.459224Z",
     "shell.execute_reply": "2024-12-22T06:36:12.458042Z"
    },
    "papermill": {
     "duration": 24.005665,
     "end_time": "2024-12-22T06:36:12.461137",
     "exception": false,
     "start_time": "2024-12-22T06:35:48.455472",
     "status": "completed"
    },
    "tags": []
   },
   "outputs": [],
   "source": [
    "with open('tokenized_documents.pkl', 'wb') as f:\n",
    "    pickle.dump(tokenized_documents, f)"
   ]
  }
 ],
 "metadata": {
  "kaggle": {
   "accelerator": "none",
   "dataSources": [
    {
     "datasetId": 6028001,
     "sourceId": 9988345,
     "sourceType": "datasetVersion"
    }
   ],
   "dockerImageVersionId": 30822,
   "isGpuEnabled": false,
   "isInternetEnabled": true,
   "language": "python",
   "sourceType": "notebook"
  },
  "kernelspec": {
   "display_name": "Python 3",
   "language": "python",
   "name": "python3"
  },
  "language_info": {
   "codemirror_mode": {
    "name": "ipython",
    "version": 3
   },
   "file_extension": ".py",
   "mimetype": "text/x-python",
   "name": "python",
   "nbconvert_exporter": "python",
   "pygments_lexer": "ipython3",
   "version": "3.11.5"
  },
  "papermill": {
   "default_parameters": {},
   "duration": 8211.615731,
   "end_time": "2024-12-22T06:36:18.861627",
   "environment_variables": {},
   "exception": null,
   "input_path": "__notebook__.ipynb",
   "output_path": "__notebook__.ipynb",
   "parameters": {},
   "start_time": "2024-12-22T04:19:27.245896",
   "version": "2.6.0"
  }
 },
 "nbformat": 4,
 "nbformat_minor": 5
}
